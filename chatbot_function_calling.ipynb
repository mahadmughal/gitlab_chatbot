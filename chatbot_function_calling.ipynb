{
 "cells": [
  {
   "cell_type": "code",
   "execution_count": 3,
   "metadata": {},
   "outputs": [],
   "source": [
    "from openai import OpenAI\n",
    "from dotenv import load_dotenv\n",
    "import gradio as gr\n",
    "import json\n",
    "import os"
   ]
  },
  {
   "cell_type": "code",
   "execution_count": 4,
   "metadata": {},
   "outputs": [
    {
     "data": {
      "text/plain": [
       "True"
      ]
     },
     "execution_count": 4,
     "metadata": {},
     "output_type": "execute_result"
    }
   ],
   "source": [
    "load_dotenv()"
   ]
  },
  {
   "cell_type": "code",
   "execution_count": 5,
   "metadata": {},
   "outputs": [],
   "source": [
    "openai_api_key = os.getenv(\"OPENAI_API_KEY\")"
   ]
  },
  {
   "cell_type": "code",
   "execution_count": 6,
   "metadata": {},
   "outputs": [],
   "source": [
    "if openai_api_key is None:\n",
    "    raise ValueError(\"OPENAI_API_KEY is not set\")"
   ]
  },
  {
   "cell_type": "code",
   "execution_count": 7,
   "metadata": {},
   "outputs": [],
   "source": [
    "openai = OpenAI()"
   ]
  },
  {
   "cell_type": "code",
   "execution_count": 8,
   "metadata": {},
   "outputs": [],
   "source": [
    "MODEL = 'gpt-4o-mini'"
   ]
  },
  {
   "cell_type": "code",
   "execution_count": 9,
   "metadata": {},
   "outputs": [],
   "source": [
    "system_prompt = \"You are a gitlab pipeline lookup tool who can easily filters and fetched the gitlab pipelines using the gitlab API\"\n",
    "user_prompt = \"Are you a gitlab pipeline lookup tool ?\""
   ]
  },
  {
   "cell_type": "code",
   "execution_count": 10,
   "metadata": {},
   "outputs": [],
   "source": [
    "message_prompt = [\n",
    "    {\"role\": \"system\", \"content\": system_prompt},\n",
    "    {\"role\": \"user\", \"content\": user_prompt}\n",
    "]"
   ]
  },
  {
   "cell_type": "code",
   "execution_count": 11,
   "metadata": {},
   "outputs": [],
   "source": [
    "tools = [\n",
    "    {\n",
    "        \"type\": \"function\",\n",
    "        \"function\": {\n",
    "            \"name\": \"fetch_gitlab_pipelines\",\n",
    "            \"description\": \"Search for GitLab pipelines using various filters such as task name, status, environment, and date ranges\",\n",
    "            \"parameters\": {\n",
    "                \"type\": \"object\",\n",
    "                \"properties\": {\n",
    "                    \"task_name\": {\n",
    "                        \"type\": \"string\",\n",
    "                        \"description\": \"Name of the task to search for in pipeline names\"\n",
    "                    },\n",
    "                    \"status\": {\n",
    "                        \"type\": \"string\",\n",
    "                        \"enum\": [\"created\", \"pending\", \"running\", \"success\", \"failed\", \"canceled\"],\n",
    "                        \"description\": \"Filter pipelines by their current status\"\n",
    "                    },\n",
    "                    \"environment\": {\n",
    "                        \"type\": \"string\",\n",
    "                        \"enum\": [\"development\", \"test\", \"uat\", \"production\"],\n",
    "                        \"description\": \"Filter pipelines by deployment environment\"\n",
    "                    },\n",
    "                    \"updated_after\": {\n",
    "                        \"type\": \"string\",\n",
    "                        \"description\": \"Filter pipelines updated after this date (format: YYYY-MM-DD)\"\n",
    "                    },\n",
    "                    \"updated_before\": {\n",
    "                        \"type\": \"string\",\n",
    "                        \"description\": \"Filter pipelines updated before this date (format: YYYY-MM-DD)\"\n",
    "                    },\n",
    "                    \"username\": {\n",
    "                        \"type\": \"string\",\n",
    "                        \"description\": \"Filter pipelines by the GitLab username who triggered them\"\n",
    "                    }\n",
    "                },\n",
    "                \"required\": [\"task_name\"]\n",
    "            }\n",
    "        }\n",
    "    }\n",
    "]"
   ]
  },
  {
   "cell_type": "code",
   "execution_count": 12,
   "metadata": {},
   "outputs": [],
   "source": [
    "import os\n",
    "import gitlab\n",
    "\n",
    "\n",
    "def fetch_gitlab_pipelines(task_name: str, status: str = None, \n",
    "                          environment: str = None, updated_after: str = None,\n",
    "                          updated_before: str = None, username: str = None):\n",
    "    try:\n",
    "      project_id = os.getenv('PROJECT_ID')\n",
    "      gitlab_access_token = os.getenv('GITLAB_ACCESS_TOKEN')\n",
    "      gitlab_base_url = os.getenv('GITLAB_BASE_URL')\n",
    "\n",
    "      print(\"Task name: \", task_name)\n",
    "      print(\"Project ID: \", project_id)\n",
    "\n",
    "      # Configure GitLab client\n",
    "      gl = gitlab.Gitlab(\n",
    "          url=gitlab_base_url,\n",
    "          private_token=gitlab_access_token\n",
    "      )\n",
    "      gl.auth()\n",
    "      project = gl.projects.get(project_id)\n",
    "    \n",
    "      # Set up filters\n",
    "      filters = {\n",
    "          'per_page': 100,\n",
    "          'get_all': True\n",
    "      }\n",
    "\n",
    "      # Add optional filters\n",
    "      if status:\n",
    "          filters['status'] = status\n",
    "      if environment:\n",
    "          filters['ref'] = environment\n",
    "      if username:\n",
    "          filters['username'] = username\n",
    "\n",
    "      # Get pipelines with filters\n",
    "      pipelines = project.pipelines.list(**filters)\n",
    "      \n",
    "      output_lines = []\n",
    "      for pipeline in pipelines:\n",
    "          pipeline_name = pipeline.name\n",
    "          if pipeline_name is not None and pipeline_name != '':\n",
    "              if task_name in pipeline_name:\n",
    "                  formatted_line = (\n",
    "                      f\"Pipeline ID: {pipeline.id}\\n\"\n",
    "                      f\"Status: {pipeline.status}\\n\"\n",
    "                      f\"Environment: {pipeline.ref}\\n\"\n",
    "                      f\"Created at: {pipeline.created_at}\\n\"\n",
    "                      f\"Updated at: {pipeline.updated_at}\\n\"\n",
    "                      f\"Name: {pipeline.name}\\n\"\n",
    "                      f\"Web URL: {pipeline.web_url}\\n\"\n",
    "                      f\"{'=' * 50}\\n\"  # Separator between pipelines\n",
    "                  )\n",
    "                  output_lines.append(formatted_line)\n",
    "\n",
    "      if output_lines:\n",
    "          final_output = f\"Found {len(output_lines)} matching pipelines:\\n\\n\" + \\\n",
    "              \"\\n\".join(output_lines)\n",
    "          print(f\"Found {len(output_lines)} matching pipelines\")\n",
    "          return final_output\n",
    "\n",
    "      no_results = f\"No pipeline found with task name: {task_name}\"\n",
    "      print(no_results)\n",
    "      return no_results\n",
    "\n",
    "    except Exception as e:\n",
    "        error_message = f\"Error searching pipelines: {e}\"\n",
    "        print(error_message)\n",
    "        return error_message\n",
    "    \n",
    "    "
   ]
  },
  {
   "cell_type": "code",
   "execution_count": 14,
   "metadata": {},
   "outputs": [],
   "source": [
    "def chat_with_gpt(message, history):\n",
    "  messages = history + [{\"role\": \"user\", \"content\": message}]\n",
    "\n",
    "  completion = openai.chat.completions.create(\n",
    "      model=\"gpt-4o\",\n",
    "      messages=messages,\n",
    "      tools=tools,\n",
    "  )\n",
    "\n",
    "  if not completion.choices[0].message.tool_calls:\n",
    "      return completion.choices[0].message.content\n",
    "\n",
    "  tool_call = completion.choices[0].message.tool_calls[0]\n",
    "  print(\"tool call info: \", tool_call)\n",
    "  args = json.loads(tool_call.function.arguments)\n",
    "  result = fetch_gitlab_pipelines(**args)\n",
    "\n",
    "  messages.append(completion.choices[0].message)\n",
    "  messages.append({\n",
    "      \"role\": \"tool\",\n",
    "      \"tool_call_id\": tool_call.id,\n",
    "      \"content\": result\n",
    "  })\n",
    "\n",
    "  print(\"messages: \", messages)\n",
    "\n",
    "  completion_2 = openai.chat.completions.create(\n",
    "      model=\"gpt-4o\",\n",
    "      messages=messages,\n",
    "      tools=tools,\n",
    "  )\n",
    "\n",
    "  return completion_2.choices[0].message.content"
   ]
  },
  {
   "cell_type": "code",
   "execution_count": null,
   "metadata": {},
   "outputs": [
    {
     "name": "stdout",
     "output_type": "stream",
     "text": [
      "* Running on local URL:  http://127.0.0.1:7860\n",
      "\n",
      "Could not create share link. Please check your internet connection or our status page: https://status.gradio.app.\n"
     ]
    },
    {
     "name": "stderr",
     "output_type": "stream",
     "text": [
      "2025/03/17 12:50:15 [W] [service.go:132] login to server failed: dial tcp 44.237.78.176:7000: i/o timeout\n"
     ]
    },
    {
     "data": {
      "text/html": [
       "<div><iframe src=\"http://127.0.0.1:7860/\" width=\"100%\" height=\"500\" allow=\"autoplay; camera; microphone; clipboard-read; clipboard-write;\" frameborder=\"0\" allowfullscreen></iframe></div>"
      ],
      "text/plain": [
       "<IPython.core.display.HTML object>"
      ]
     },
     "metadata": {},
     "output_type": "display_data"
    },
    {
     "name": "stdout",
     "output_type": "stream",
     "text": [
      "tool call info:  ChatCompletionMessageToolCall(id='call_EY17XPbwcjl3eWXgpsxnWoFW', function=Function(arguments='{\"task_name\":\"10156526529\"}', name='fetch_gitlab_pipelines'), type='function')\n",
      "Task name:  10156526529\n",
      "Project ID:  508\n",
      "Error searching pipelines: 401: invalid_token\n",
      "messages:  [{'role': 'user', 'metadata': None, 'content': 'fetch pipeline 10156526529', 'options': None}, {'role': 'assistant', 'metadata': None, 'content': \"It seems like you're trying to fetch details for a specific pipeline using an ID. However, the available tool functions focus on searching for GitLab pipelines based on various filters such as task name, status, environment, and date ranges, rather than fetching by a specific ID.\\n\\nIf you have additional search criteria or need information about a specific task, please provide more details.\", 'options': None}, {'role': 'user', 'content': 'fetch pipeline using task name 10156526529'}, ChatCompletionMessage(content=None, refusal=None, role='assistant', audio=None, function_call=None, tool_calls=[ChatCompletionMessageToolCall(id='call_EY17XPbwcjl3eWXgpsxnWoFW', function=Function(arguments='{\"task_name\":\"10156526529\"}', name='fetch_gitlab_pipelines'), type='function')], annotations=[]), {'role': 'tool', 'tool_call_id': 'call_EY17XPbwcjl3eWXgpsxnWoFW', 'content': 'Error searching pipelines: 401: invalid_token'}]\n"
     ]
    }
   ],
   "source": [
    "demo = gr.ChatInterface(\n",
    "    fn=chat_with_gpt,\n",
    "    type=\"messages\",\n",
    "    title=\"Gitlab Bot\",\n",
    "    flagging_mode=\"never\"\n",
    ")\n",
    "\n",
    "demo.launch(share=True, debug=True)"
   ]
  }
 ],
 "metadata": {
  "kernelspec": {
   "display_name": "gitlab_chatbot_env",
   "language": "python",
   "name": "python3"
  },
  "language_info": {
   "codemirror_mode": {
    "name": "ipython",
    "version": 3
   },
   "file_extension": ".py",
   "mimetype": "text/x-python",
   "name": "python",
   "nbconvert_exporter": "python",
   "pygments_lexer": "ipython3",
   "version": "3.12.7"
  }
 },
 "nbformat": 4,
 "nbformat_minor": 2
}
